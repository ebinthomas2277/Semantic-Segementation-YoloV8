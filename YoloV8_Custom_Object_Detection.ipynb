{
  "nbformat": 4,
  "nbformat_minor": 0,
  "metadata": {
    "colab": {
      "provenance": [],
      "gpuType": "T4",
      "include_colab_link": true
    },
    "kernelspec": {
      "name": "python3",
      "display_name": "Python 3"
    },
    "language_info": {
      "name": "python"
    },
    "accelerator": "GPU"
  },
  "cells": [
    {
      "cell_type": "markdown",
      "metadata": {
        "id": "view-in-github",
        "colab_type": "text"
      },
      "source": [
        "<a href=\"https://colab.research.google.com/github/ebinthomas2277/Semantic-Segementation-YoloV8/blob/main/YoloV8_Custom_Object_Detection.ipynb\" target=\"_parent\"><img src=\"https://colab.research.google.com/assets/colab-badge.svg\" alt=\"Open In Colab\"/></a>"
      ]
    },
    {
      "cell_type": "code",
      "source": [
        "# Connecting colab to google drive"
      ],
      "metadata": {
        "id": "_LcKP4S9FaD4"
      },
      "execution_count": null,
      "outputs": []
    },
    {
      "cell_type": "code",
      "execution_count": 1,
      "metadata": {
        "colab": {
          "base_uri": "https://localhost:8080/"
        },
        "id": "rb85h23j81De",
        "outputId": "f68a3433-8863-4a16-c4f5-b192f3440f0c"
      },
      "outputs": [
        {
          "output_type": "stream",
          "name": "stdout",
          "text": [
            "Mounted at /content/gdrive\n"
          ]
        }
      ],
      "source": [
        "from google.colab import drive\n",
        "drive.mount(\"/content/gdrive\")"
      ]
    },
    {
      "cell_type": "code",
      "source": [
        "%cd /content/gdrive/MyDrive"
      ],
      "metadata": {
        "colab": {
          "base_uri": "https://localhost:8080/"
        },
        "id": "HvErpOJH9kww",
        "outputId": "eb7c6939-b0fd-41f5-b2f8-86f019ac619c"
      },
      "execution_count": 2,
      "outputs": [
        {
          "output_type": "stream",
          "name": "stdout",
          "text": [
            "/content/gdrive/MyDrive\n"
          ]
        }
      ]
    },
    {
      "cell_type": "code",
      "source": [
        "!unrar x \"/content/Pothole.rar\" \"/content/gdrive/MyDrive/Yolo_Segmentation\""
      ],
      "metadata": {
        "id": "_WkztIux1a0d"
      },
      "execution_count": null,
      "outputs": []
    },
    {
      "cell_type": "code",
      "source": [
        "!pwd"
      ],
      "metadata": {
        "colab": {
          "base_uri": "https://localhost:8080/"
        },
        "id": "c4i6yTX990Sg",
        "outputId": "a79a514c-14bc-4cd8-a896-eea72bb02298"
      },
      "execution_count": 3,
      "outputs": [
        {
          "output_type": "stream",
          "name": "stdout",
          "text": [
            "/content/gdrive/MyDrive\n"
          ]
        }
      ]
    },
    {
      "cell_type": "code",
      "source": [
        "# Creating a new directory"
      ],
      "metadata": {
        "id": "1XGjvmStFh0v"
      },
      "execution_count": 4,
      "outputs": []
    },
    {
      "cell_type": "code",
      "source": [
        "import os\n",
        "if not os.path.isdir(\"Yolo_Segmentation\"):\n",
        "  os.makedirs(\"Yolo_Segmentation\")"
      ],
      "metadata": {
        "id": "L0R4Zl0v922S"
      },
      "execution_count": 5,
      "outputs": []
    },
    {
      "cell_type": "code",
      "source": [
        "%cd Yolo_Segmentation"
      ],
      "metadata": {
        "colab": {
          "base_uri": "https://localhost:8080/"
        },
        "id": "dHBolEfH-QmU",
        "outputId": "c99bfce2-ca03-4a89-fc72-0e4bdbc4bef8"
      },
      "execution_count": null,
      "outputs": [
        {
          "output_type": "stream",
          "name": "stdout",
          "text": [
            "/content/gdrive/MyDrive/Yolo_Object_Detection\n"
          ]
        }
      ]
    },
    {
      "cell_type": "code",
      "source": [
        "# Clonning yolov7 essentails"
      ],
      "metadata": {
        "id": "76jy-MGJFlZe"
      },
      "execution_count": null,
      "outputs": []
    },
    {
      "cell_type": "code",
      "source": [
        "https://github.com/ultralytics/assets/releases/download/v0.0.0/yolov8m.pt"
      ],
      "metadata": {
        "id": "W278-c0V144N"
      },
      "execution_count": null,
      "outputs": []
    },
    {
      "cell_type": "code",
      "source": [
        "!git clone https://github.com/WongKinYiu/yolov7.git"
      ],
      "metadata": {
        "colab": {
          "base_uri": "https://localhost:8080/"
        },
        "id": "imVagtNy-iWz",
        "outputId": "de8d86db-ed62-420b-88fd-0b21bc7d95e5"
      },
      "execution_count": null,
      "outputs": [
        {
          "output_type": "stream",
          "name": "stdout",
          "text": [
            "Cloning into 'yolov7'...\n",
            "remote: Enumerating objects: 1191, done.\u001b[K\n",
            "remote: Counting objects: 100% (6/6), done.\u001b[K\n",
            "remote: Compressing objects: 100% (4/4), done.\u001b[K\n",
            "remote: Total 1191 (delta 2), reused 5 (delta 2), pack-reused 1185\u001b[K\n",
            "Receiving objects: 100% (1191/1191), 74.23 MiB | 15.37 MiB/s, done.\n",
            "Resolving deltas: 100% (514/514), done.\n",
            "Updating files: 100% (108/108), done.\n"
          ]
        }
      ]
    },
    {
      "cell_type": "code",
      "source": [
        "%cd yolov7"
      ],
      "metadata": {
        "colab": {
          "base_uri": "https://localhost:8080/"
        },
        "id": "m6kPAMlh-pC-",
        "outputId": "7c054f74-ea66-49b0-8294-f4f886545938"
      },
      "execution_count": null,
      "outputs": [
        {
          "output_type": "stream",
          "name": "stdout",
          "text": [
            "/content/gdrive/MyDrive/Yolo_Object_Detection/yolov7\n"
          ]
        }
      ]
    },
    {
      "cell_type": "code",
      "source": [
        "# pulling normal yolov7 model from github"
      ],
      "metadata": {
        "id": "NPDHS5iAFqEE"
      },
      "execution_count": null,
      "outputs": []
    },
    {
      "cell_type": "code",
      "source": [
        "%pip install ultralytics\n",
        "import ultralytics\n",
        "ultralytics.checks()"
      ],
      "metadata": {
        "colab": {
          "base_uri": "https://localhost:8080/"
        },
        "id": "hH0yvTXZ2Z9F",
        "outputId": "f42d2c22-2f62-415e-ddf8-f4480fa474e2"
      },
      "execution_count": 8,
      "outputs": [
        {
          "output_type": "stream",
          "name": "stderr",
          "text": [
            "Ultralytics YOLOv8.0.164 🚀 Python-3.10.12 torch-2.0.1+cu118 CUDA:0 (Tesla T4, 15102MiB)\n",
            "Setup complete ✅ (2 CPUs, 12.7 GB RAM, 26.5/78.2 GB disk)\n"
          ]
        }
      ]
    },
    {
      "cell_type": "code",
      "source": [
        "from ultralytics import YOLO\n",
        "\n",
        "from IPython.display import display, Image"
      ],
      "metadata": {
        "id": "mLn6Igf13Iod"
      },
      "execution_count": 9,
      "outputs": []
    },
    {
      "cell_type": "code",
      "source": [
        "# To detect objects navigate to\n",
        "# gdrive->MyDrive->Yolo_Object_Detection->yolov7\n",
        "# upload some sample image or video(don't put image/video inside any folder just copy to yolov7 folder)\n",
        "# mention file name with extension after --source command(below)\n",
        "# run"
      ],
      "metadata": {
        "id": "nppegW5kFwuH"
      },
      "execution_count": null,
      "outputs": []
    },
    {
      "cell_type": "code",
      "source": [
        "!yolo task=segment mode=train model=yolov8m-seg.pt data=/content/gdrive/MyDrive/Yolo_Segmentation/Potholes/data.yaml epochs=100 imgsz=640"
      ],
      "metadata": {
        "id": "Q14m0CCJF4ch",
        "colab": {
          "base_uri": "https://localhost:8080/"
        },
        "outputId": "a5f22b15-62e2-4307-958d-c9e5e9726ae4"
      },
      "execution_count": 11,
      "outputs": [
        {
          "output_type": "stream",
          "name": "stdout",
          "text": [
            "Downloading https://github.com/ultralytics/assets/releases/download/v0.0.0/yolov8m-seg.pt to 'yolov8m-seg.pt'...\n",
            "100% 52.4M/52.4M [00:03<00:00, 16.3MB/s]\n",
            "Ultralytics YOLOv8.0.164 🚀 Python-3.10.12 torch-2.0.1+cu118 CUDA:0 (Tesla T4, 15102MiB)\n",
            "\u001b[34m\u001b[1mengine/trainer: \u001b[0mtask=segment, mode=train, model=yolov8m-seg.pt, data=/content/gdrive/MyDrive/Yolo_Segmentation/Potholes/data.yaml, epochs=100, patience=50, batch=16, imgsz=640, save=True, save_period=-1, cache=False, device=None, workers=8, project=None, name=None, exist_ok=False, pretrained=True, optimizer=auto, verbose=True, seed=0, deterministic=True, single_cls=False, rect=False, cos_lr=False, close_mosaic=10, resume=False, amp=True, fraction=1.0, profile=False, freeze=None, overlap_mask=True, mask_ratio=4, dropout=0.0, val=True, split=val, save_json=False, save_hybrid=False, conf=None, iou=0.7, max_det=300, half=False, dnn=False, plots=True, source=None, show=False, save_txt=False, save_conf=False, save_crop=False, show_labels=True, show_conf=True, vid_stride=1, stream_buffer=False, line_width=None, visualize=False, augment=False, agnostic_nms=False, classes=None, retina_masks=False, boxes=True, format=torchscript, keras=False, optimize=False, int8=False, dynamic=False, simplify=False, opset=None, workspace=4, nms=False, lr0=0.01, lrf=0.01, momentum=0.937, weight_decay=0.0005, warmup_epochs=3.0, warmup_momentum=0.8, warmup_bias_lr=0.1, box=7.5, cls=0.5, dfl=1.5, pose=12.0, kobj=1.0, label_smoothing=0.0, nbs=64, hsv_h=0.015, hsv_s=0.7, hsv_v=0.4, degrees=0.0, translate=0.1, scale=0.5, shear=0.0, perspective=0.0, flipud=0.0, fliplr=0.5, mosaic=1.0, mixup=0.0, copy_paste=0.0, cfg=None, tracker=botsort.yaml, save_dir=runs/segment/train\n",
            "Downloading https://ultralytics.com/assets/Arial.ttf to '/root/.config/Ultralytics/Arial.ttf'...\n",
            "100% 755k/755k [00:00<00:00, 69.5MB/s]\n",
            "Overriding model.yaml nc=80 with nc=1\n",
            "\n",
            "                   from  n    params  module                                       arguments                     \n",
            "  0                  -1  1      1392  ultralytics.nn.modules.conv.Conv             [3, 48, 3, 2]                 \n",
            "  1                  -1  1     41664  ultralytics.nn.modules.conv.Conv             [48, 96, 3, 2]                \n",
            "  2                  -1  2    111360  ultralytics.nn.modules.block.C2f             [96, 96, 2, True]             \n",
            "  3                  -1  1    166272  ultralytics.nn.modules.conv.Conv             [96, 192, 3, 2]               \n",
            "  4                  -1  4    813312  ultralytics.nn.modules.block.C2f             [192, 192, 4, True]           \n",
            "  5                  -1  1    664320  ultralytics.nn.modules.conv.Conv             [192, 384, 3, 2]              \n",
            "  6                  -1  4   3248640  ultralytics.nn.modules.block.C2f             [384, 384, 4, True]           \n",
            "  7                  -1  1   1991808  ultralytics.nn.modules.conv.Conv             [384, 576, 3, 2]              \n",
            "  8                  -1  2   3985920  ultralytics.nn.modules.block.C2f             [576, 576, 2, True]           \n",
            "  9                  -1  1    831168  ultralytics.nn.modules.block.SPPF            [576, 576, 5]                 \n",
            " 10                  -1  1         0  torch.nn.modules.upsampling.Upsample         [None, 2, 'nearest']          \n",
            " 11             [-1, 6]  1         0  ultralytics.nn.modules.conv.Concat           [1]                           \n",
            " 12                  -1  2   1993728  ultralytics.nn.modules.block.C2f             [960, 384, 2]                 \n",
            " 13                  -1  1         0  torch.nn.modules.upsampling.Upsample         [None, 2, 'nearest']          \n",
            " 14             [-1, 4]  1         0  ultralytics.nn.modules.conv.Concat           [1]                           \n",
            " 15                  -1  2    517632  ultralytics.nn.modules.block.C2f             [576, 192, 2]                 \n",
            " 16                  -1  1    332160  ultralytics.nn.modules.conv.Conv             [192, 192, 3, 2]              \n",
            " 17            [-1, 12]  1         0  ultralytics.nn.modules.conv.Concat           [1]                           \n",
            " 18                  -1  2   1846272  ultralytics.nn.modules.block.C2f             [576, 384, 2]                 \n",
            " 19                  -1  1   1327872  ultralytics.nn.modules.conv.Conv             [384, 384, 3, 2]              \n",
            " 20             [-1, 9]  1         0  ultralytics.nn.modules.conv.Concat           [1]                           \n",
            " 21                  -1  2   4207104  ultralytics.nn.modules.block.C2f             [960, 576, 2]                 \n",
            " 22        [15, 18, 21]  1   5159603  ultralytics.nn.modules.head.Segment          [1, 32, 192, [192, 384, 576]] \n",
            "YOLOv8m-seg summary: 331 layers, 27240227 parameters, 27240211 gradients\n",
            "\n",
            "Transferred 531/537 items from pretrained weights\n",
            "\u001b[34m\u001b[1mTensorBoard: \u001b[0mStart with 'tensorboard --logdir runs/segment/train', view at http://localhost:6006/\n",
            "Freezing layer 'model.22.dfl.conv.weight'\n",
            "\u001b[34m\u001b[1mAMP: \u001b[0mrunning Automatic Mixed Precision (AMP) checks with YOLOv8n...\n",
            "Downloading https://github.com/ultralytics/assets/releases/download/v0.0.0/yolov8n.pt to 'yolov8n.pt'...\n",
            "100% 6.23M/6.23M [00:00<00:00, 103MB/s]\n",
            "\u001b[34m\u001b[1mAMP: \u001b[0mchecks passed ✅\n",
            "\u001b[34m\u001b[1mtrain: \u001b[0mScanning /content/gdrive/MyDrive/Yolo_Segmentation/Potholes/train/labels... 908 images, 2 backgrounds, 0 corrupt: 100% 908/908 [00:03<00:00, 255.75it/s]\n",
            "\u001b[34m\u001b[1mtrain: \u001b[0mNew cache created: /content/gdrive/MyDrive/Yolo_Segmentation/Potholes/train/labels.cache\n",
            "\u001b[34m\u001b[1malbumentations: \u001b[0mBlur(p=0.01, blur_limit=(3, 7)), MedianBlur(p=0.01, blur_limit=(3, 7)), ToGray(p=0.01), CLAHE(p=0.01, clip_limit=(1, 4.0), tile_grid_size=(8, 8))\n",
            "\u001b[34m\u001b[1mval: \u001b[0mScanning /content/gdrive/MyDrive/Yolo_Segmentation/Potholes/valid/labels... 254 images, 1 backgrounds, 0 corrupt: 100% 254/254 [00:02<00:00, 104.15it/s]\n",
            "\u001b[34m\u001b[1mval: \u001b[0mNew cache created: /content/gdrive/MyDrive/Yolo_Segmentation/Potholes/valid/labels.cache\n",
            "Plotting labels to runs/segment/train/labels.jpg... \n",
            "\u001b[34m\u001b[1moptimizer:\u001b[0m AdamW(lr=0.002, momentum=0.9) with parameter groups 86 weight(decay=0.0), 97 weight(decay=0.0005), 96 bias(decay=0.0)\n",
            "Image sizes 640 train, 640 val\n",
            "Using 2 dataloader workers\n",
            "Logging results to \u001b[1mruns/segment/train\u001b[0m\n",
            "Starting training for 100 epochs...\n",
            "\n",
            "      Epoch    GPU_mem   box_loss   seg_loss   cls_loss   dfl_loss  Instances       Size\n",
            "      1/100      8.22G      1.568      3.049      2.371      1.659         55        640: 100% 57/57 [00:44<00:00,  1.28it/s]\n",
            "                 Class     Images  Instances      Box(P          R      mAP50  mAP50-95)     Mask(P          R      mAP50  mAP50-95): 100% 8/8 [00:07<00:00,  1.09it/s]\n",
            "                   all        254        592    0.00458     0.0861    0.00714    0.00379    0.00368     0.0693    0.00636    0.00244\n",
            "\n",
            "      Epoch    GPU_mem   box_loss   seg_loss   cls_loss   dfl_loss  Instances       Size\n",
            "      2/100      8.45G      1.801       3.13      2.303       1.86         32        640: 100% 57/57 [00:41<00:00,  1.38it/s]\n",
            "                 Class     Images  Instances      Box(P          R      mAP50  mAP50-95)     Mask(P          R      mAP50  mAP50-95): 100% 8/8 [00:05<00:00,  1.41it/s]\n",
            "                   all        254        592      0.004      0.182    0.00218   0.000721     0.0076     0.0236    0.00175   0.000509\n",
            "\n",
            "      Epoch    GPU_mem   box_loss   seg_loss   cls_loss   dfl_loss  Instances       Size\n",
            "      3/100      8.19G       1.88      3.195      2.258       1.91         38        640: 100% 57/57 [00:41<00:00,  1.37it/s]\n",
            "                 Class     Images  Instances      Box(P          R      mAP50  mAP50-95)     Mask(P          R      mAP50  mAP50-95): 100% 8/8 [00:06<00:00,  1.25it/s]\n",
            "                   all        254        592      0.107     0.0997     0.0294     0.0097      0.109      0.101     0.0284    0.00831\n",
            "\n",
            "      Epoch    GPU_mem   box_loss   seg_loss   cls_loss   dfl_loss  Instances       Size\n",
            "      4/100      8.11G        1.8      3.072      2.203      1.848         42        640: 100% 57/57 [00:41<00:00,  1.37it/s]\n",
            "                 Class     Images  Instances      Box(P          R      mAP50  mAP50-95)     Mask(P          R      mAP50  mAP50-95): 100% 8/8 [00:05<00:00,  1.40it/s]\n",
            "                   all        254        592      0.159      0.184     0.0933     0.0313      0.154      0.177     0.0797     0.0239\n",
            "\n",
            "      Epoch    GPU_mem   box_loss   seg_loss   cls_loss   dfl_loss  Instances       Size\n",
            "      5/100       8.1G      1.802      3.028      2.151      1.838         37        640: 100% 57/57 [00:41<00:00,  1.37it/s]\n",
            "                 Class     Images  Instances      Box(P          R      mAP50  mAP50-95)     Mask(P          R      mAP50  mAP50-95): 100% 8/8 [00:06<00:00,  1.32it/s]\n",
            "                   all        254        592    0.00994     0.0541    0.00353    0.00122    0.00844     0.0456    0.00221   0.000573\n",
            "\n",
            "      Epoch    GPU_mem   box_loss   seg_loss   cls_loss   dfl_loss  Instances       Size\n",
            "      6/100       8.1G      1.747      3.011      2.073       1.78         46        640: 100% 57/57 [00:41<00:00,  1.38it/s]\n",
            "                 Class     Images  Instances      Box(P          R      mAP50  mAP50-95)     Mask(P          R      mAP50  mAP50-95): 100% 8/8 [00:06<00:00,  1.22it/s]\n",
            "                   all        254        592      0.223      0.191      0.136      0.058      0.237      0.176      0.119     0.0476\n",
            "\n",
            "      Epoch    GPU_mem   box_loss   seg_loss   cls_loss   dfl_loss  Instances       Size\n",
            "      7/100      8.39G      1.673       2.89      1.919      1.713         51        640: 100% 57/57 [00:41<00:00,  1.38it/s]\n",
            "                 Class     Images  Instances      Box(P          R      mAP50  mAP50-95)     Mask(P          R      mAP50  mAP50-95): 100% 8/8 [00:05<00:00,  1.38it/s]\n",
            "                   all        254        592      0.261      0.177      0.154     0.0668      0.273      0.181       0.15     0.0684\n",
            "\n",
            "      Epoch    GPU_mem   box_loss   seg_loss   cls_loss   dfl_loss  Instances       Size\n",
            "      8/100      8.04G      1.637      2.742      1.885      1.683         34        640: 100% 57/57 [00:40<00:00,  1.41it/s]\n",
            "                 Class     Images  Instances      Box(P          R      mAP50  mAP50-95)     Mask(P          R      mAP50  mAP50-95): 100% 8/8 [00:07<00:00,  1.14it/s]\n",
            "                   all        254        592      0.346       0.28      0.243      0.109      0.435      0.248       0.23     0.0975\n",
            "\n",
            "      Epoch    GPU_mem   box_loss   seg_loss   cls_loss   dfl_loss  Instances       Size\n",
            "      9/100      8.08G      1.574      2.736       1.81      1.649         41        640: 100% 57/57 [00:41<00:00,  1.38it/s]\n",
            "                 Class     Images  Instances      Box(P          R      mAP50  mAP50-95)     Mask(P          R      mAP50  mAP50-95): 100% 8/8 [00:05<00:00,  1.39it/s]\n",
            "                   all        254        592      0.318       0.28      0.221      0.112      0.318      0.272      0.208     0.0967\n",
            "\n",
            "      Epoch    GPU_mem   box_loss   seg_loss   cls_loss   dfl_loss  Instances       Size\n",
            "     10/100      8.08G      1.583      2.715       1.79       1.65         91        640: 100% 57/57 [00:40<00:00,  1.40it/s]\n",
            "                 Class     Images  Instances      Box(P          R      mAP50  mAP50-95)     Mask(P          R      mAP50  mAP50-95): 100% 8/8 [00:05<00:00,  1.36it/s]\n",
            "                   all        254        592      0.453      0.285      0.251      0.109       0.44      0.282      0.233     0.0992\n",
            "\n",
            "      Epoch    GPU_mem   box_loss   seg_loss   cls_loss   dfl_loss  Instances       Size\n",
            "     11/100      8.44G       1.57      2.643      1.739      1.607         32        640: 100% 57/57 [00:41<00:00,  1.39it/s]\n",
            "                 Class     Images  Instances      Box(P          R      mAP50  mAP50-95)     Mask(P          R      mAP50  mAP50-95): 100% 8/8 [00:06<00:00,  1.28it/s]\n",
            "                   all        254        592      0.371      0.314      0.255      0.112       0.36      0.296      0.234      0.102\n",
            "\n",
            "      Epoch    GPU_mem   box_loss   seg_loss   cls_loss   dfl_loss  Instances       Size\n",
            "     12/100      8.12G      1.522      2.619       1.67      1.584         50        640: 100% 57/57 [00:41<00:00,  1.38it/s]\n",
            "                 Class     Images  Instances      Box(P          R      mAP50  mAP50-95)     Mask(P          R      mAP50  mAP50-95): 100% 8/8 [00:06<00:00,  1.28it/s]\n",
            "                   all        254        592      0.307      0.316      0.224      0.106      0.306      0.269      0.201      0.094\n",
            "\n",
            "      Epoch    GPU_mem   box_loss   seg_loss   cls_loss   dfl_loss  Instances       Size\n",
            "     13/100      8.07G      1.516      2.586      1.665      1.548         36        640: 100% 57/57 [00:41<00:00,  1.39it/s]\n",
            "                 Class     Images  Instances      Box(P          R      mAP50  mAP50-95)     Mask(P          R      mAP50  mAP50-95): 100% 8/8 [00:07<00:00,  1.10it/s]\n",
            "                   all        254        592      0.407      0.341      0.307      0.147      0.412       0.34      0.301      0.143\n",
            "\n",
            "      Epoch    GPU_mem   box_loss   seg_loss   cls_loss   dfl_loss  Instances       Size\n",
            "     14/100      8.21G      1.519      2.559      1.691      1.589         51        640: 100% 57/57 [00:41<00:00,  1.38it/s]\n",
            "                 Class     Images  Instances      Box(P          R      mAP50  mAP50-95)     Mask(P          R      mAP50  mAP50-95): 100% 8/8 [00:05<00:00,  1.35it/s]\n",
            "                   all        254        592       0.46      0.301      0.291      0.145      0.483      0.311      0.292       0.14\n",
            "\n",
            "      Epoch    GPU_mem   box_loss   seg_loss   cls_loss   dfl_loss  Instances       Size\n",
            "     15/100      8.45G      1.487      2.521      1.621      1.563         55        640: 100% 57/57 [00:40<00:00,  1.42it/s]\n",
            "                 Class     Images  Instances      Box(P          R      mAP50  mAP50-95)     Mask(P          R      mAP50  mAP50-95): 100% 8/8 [00:07<00:00,  1.12it/s]\n",
            "                   all        254        592      0.505      0.314      0.345      0.164      0.544      0.307      0.345      0.167\n",
            "\n",
            "      Epoch    GPU_mem   box_loss   seg_loss   cls_loss   dfl_loss  Instances       Size\n",
            "     16/100      8.15G      1.473      2.506      1.601       1.55         46        640: 100% 57/57 [00:40<00:00,  1.41it/s]\n",
            "                 Class     Images  Instances      Box(P          R      mAP50  mAP50-95)     Mask(P          R      mAP50  mAP50-95): 100% 8/8 [00:07<00:00,  1.12it/s]\n",
            "                   all        254        592      0.441      0.367      0.332      0.161      0.505      0.338      0.336      0.153\n",
            "\n",
            "      Epoch    GPU_mem   box_loss   seg_loss   cls_loss   dfl_loss  Instances       Size\n",
            "     17/100      8.13G      1.463      2.534      1.582      1.548         46        640: 100% 57/57 [00:40<00:00,  1.40it/s]\n",
            "                 Class     Images  Instances      Box(P          R      mAP50  mAP50-95)     Mask(P          R      mAP50  mAP50-95): 100% 8/8 [00:05<00:00,  1.40it/s]\n",
            "                   all        254        592      0.322      0.331      0.273       0.13      0.359      0.301       0.27      0.125\n",
            "\n",
            "      Epoch    GPU_mem   box_loss   seg_loss   cls_loss   dfl_loss  Instances       Size\n",
            "     18/100      8.22G      1.442      2.494      1.572      1.543         41        640: 100% 57/57 [00:40<00:00,  1.40it/s]\n",
            "                 Class     Images  Instances      Box(P          R      mAP50  mAP50-95)     Mask(P          R      mAP50  mAP50-95): 100% 8/8 [00:05<00:00,  1.38it/s]\n",
            "                   all        254        592      0.522      0.338      0.365      0.171      0.525      0.338      0.349      0.154\n",
            "\n",
            "      Epoch    GPU_mem   box_loss   seg_loss   cls_loss   dfl_loss  Instances       Size\n",
            "     19/100      8.39G      1.424      2.432      1.541      1.529         41        640: 100% 57/57 [00:41<00:00,  1.39it/s]\n",
            "                 Class     Images  Instances      Box(P          R      mAP50  mAP50-95)     Mask(P          R      mAP50  mAP50-95): 100% 8/8 [00:07<00:00,  1.12it/s]\n",
            "                   all        254        592       0.53      0.333      0.359      0.178      0.535      0.326      0.343      0.169\n",
            "\n",
            "      Epoch    GPU_mem   box_loss   seg_loss   cls_loss   dfl_loss  Instances       Size\n",
            "     20/100      8.11G       1.41      2.445      1.544      1.506         57        640: 100% 57/57 [00:41<00:00,  1.38it/s]\n",
            "                 Class     Images  Instances      Box(P          R      mAP50  mAP50-95)     Mask(P          R      mAP50  mAP50-95): 100% 8/8 [00:05<00:00,  1.39it/s]\n",
            "                   all        254        592      0.466      0.341      0.333      0.163      0.519      0.324      0.324      0.156\n",
            "\n",
            "      Epoch    GPU_mem   box_loss   seg_loss   cls_loss   dfl_loss  Instances       Size\n",
            "     21/100      8.03G      1.427      2.399      1.509      1.517         60        640: 100% 57/57 [00:40<00:00,  1.41it/s]\n",
            "                 Class     Images  Instances      Box(P          R      mAP50  mAP50-95)     Mask(P          R      mAP50  mAP50-95): 100% 8/8 [00:06<00:00,  1.29it/s]\n",
            "                   all        254        592      0.411      0.377      0.329      0.161      0.409      0.361      0.329      0.153\n",
            "\n",
            "      Epoch    GPU_mem   box_loss   seg_loss   cls_loss   dfl_loss  Instances       Size\n",
            "     22/100      8.09G      1.424       2.37      1.512      1.521         30        640: 100% 57/57 [00:40<00:00,  1.42it/s]\n",
            "                 Class     Images  Instances      Box(P          R      mAP50  mAP50-95)     Mask(P          R      mAP50  mAP50-95): 100% 8/8 [00:07<00:00,  1.13it/s]\n",
            "                   all        254        592      0.458      0.403       0.36      0.169      0.511      0.375      0.364       0.16\n",
            "\n",
            "      Epoch    GPU_mem   box_loss   seg_loss   cls_loss   dfl_loss  Instances       Size\n",
            "     23/100      8.47G      1.401        2.4      1.465      1.497         45        640: 100% 57/57 [00:40<00:00,  1.40it/s]\n",
            "                 Class     Images  Instances      Box(P          R      mAP50  mAP50-95)     Mask(P          R      mAP50  mAP50-95): 100% 8/8 [00:05<00:00,  1.38it/s]\n",
            "                   all        254        592       0.48      0.422      0.392      0.195      0.504      0.404      0.379      0.179\n",
            "\n",
            "      Epoch    GPU_mem   box_loss   seg_loss   cls_loss   dfl_loss  Instances       Size\n",
            "     24/100      8.16G      1.392      2.346      1.422      1.487         62        640: 100% 57/57 [00:41<00:00,  1.39it/s]\n",
            "                 Class     Images  Instances      Box(P          R      mAP50  mAP50-95)     Mask(P          R      mAP50  mAP50-95): 100% 8/8 [00:06<00:00,  1.18it/s]\n",
            "                   all        254        592      0.502      0.387      0.366      0.181      0.504       0.38      0.362      0.162\n",
            "\n",
            "      Epoch    GPU_mem   box_loss   seg_loss   cls_loss   dfl_loss  Instances       Size\n",
            "     25/100      8.17G      1.367      2.295       1.42      1.455         41        640: 100% 57/57 [00:40<00:00,  1.41it/s]\n",
            "                 Class     Images  Instances      Box(P          R      mAP50  mAP50-95)     Mask(P          R      mAP50  mAP50-95): 100% 8/8 [00:06<00:00,  1.19it/s]\n",
            "                   all        254        592      0.473      0.395      0.387        0.2      0.466       0.39      0.378      0.188\n",
            "\n",
            "      Epoch    GPU_mem   box_loss   seg_loss   cls_loss   dfl_loss  Instances       Size\n",
            "     26/100      8.26G      1.315      2.324      1.389      1.433         53        640: 100% 57/57 [00:43<00:00,  1.32it/s]\n",
            "                 Class     Images  Instances      Box(P          R      mAP50  mAP50-95)     Mask(P          R      mAP50  mAP50-95): 100% 8/8 [00:05<00:00,  1.38it/s]\n",
            "                   all        254        592       0.49      0.367      0.363      0.186      0.524      0.346      0.348      0.169\n",
            "\n",
            "      Epoch    GPU_mem   box_loss   seg_loss   cls_loss   dfl_loss  Instances       Size\n",
            "     27/100      8.47G      1.345      2.274       1.39       1.47         43        640: 100% 57/57 [00:40<00:00,  1.42it/s]\n",
            "                 Class     Images  Instances      Box(P          R      mAP50  mAP50-95)     Mask(P          R      mAP50  mAP50-95): 100% 8/8 [00:07<00:00,  1.13it/s]\n",
            "                   all        254        592      0.434       0.38      0.356      0.176      0.442      0.373      0.343      0.164\n",
            "\n",
            "      Epoch    GPU_mem   box_loss   seg_loss   cls_loss   dfl_loss  Instances       Size\n",
            "     28/100      8.14G      1.358      2.258      1.411      1.472         40        640: 100% 57/57 [00:40<00:00,  1.40it/s]\n",
            "                 Class     Images  Instances      Box(P          R      mAP50  mAP50-95)     Mask(P          R      mAP50  mAP50-95): 100% 8/8 [00:06<00:00,  1.33it/s]\n",
            "                   all        254        592      0.469      0.387      0.369      0.183      0.465      0.378      0.359      0.164\n",
            "\n",
            "      Epoch    GPU_mem   box_loss   seg_loss   cls_loss   dfl_loss  Instances       Size\n",
            "     29/100      8.08G      1.392      2.292      1.392      1.493         45        640: 100% 57/57 [00:40<00:00,  1.40it/s]\n",
            "                 Class     Images  Instances      Box(P          R      mAP50  mAP50-95)     Mask(P          R      mAP50  mAP50-95): 100% 8/8 [00:05<00:00,  1.38it/s]\n",
            "                   all        254        592      0.442      0.429      0.367      0.181       0.45      0.442      0.366      0.167\n",
            "\n",
            "      Epoch    GPU_mem   box_loss   seg_loss   cls_loss   dfl_loss  Instances       Size\n",
            "     30/100      8.08G      1.344      2.235       1.34      1.461         34        640: 100% 57/57 [00:40<00:00,  1.40it/s]\n",
            "                 Class     Images  Instances      Box(P          R      mAP50  mAP50-95)     Mask(P          R      mAP50  mAP50-95): 100% 8/8 [00:06<00:00,  1.17it/s]\n",
            "                   all        254        592      0.517      0.375      0.388      0.193      0.589      0.356      0.396      0.193\n",
            "\n",
            "      Epoch    GPU_mem   box_loss   seg_loss   cls_loss   dfl_loss  Instances       Size\n",
            "     31/100      8.47G      1.311      2.254      1.339      1.436         34        640: 100% 57/57 [00:41<00:00,  1.38it/s]\n",
            "                 Class     Images  Instances      Box(P          R      mAP50  mAP50-95)     Mask(P          R      mAP50  mAP50-95): 100% 8/8 [00:05<00:00,  1.37it/s]\n",
            "                   all        254        592      0.565      0.348       0.39      0.209      0.553      0.355      0.386      0.193\n",
            "\n",
            "      Epoch    GPU_mem   box_loss   seg_loss   cls_loss   dfl_loss  Instances       Size\n",
            "     32/100       8.1G      1.315      2.206      1.331      1.446         31        640: 100% 57/57 [00:42<00:00,  1.35it/s]\n",
            "                 Class     Images  Instances      Box(P          R      mAP50  mAP50-95)     Mask(P          R      mAP50  mAP50-95): 100% 8/8 [00:06<00:00,  1.20it/s]\n",
            "                   all        254        592      0.573      0.412      0.419      0.218      0.576      0.416      0.418      0.196\n",
            "\n",
            "      Epoch    GPU_mem   box_loss   seg_loss   cls_loss   dfl_loss  Instances       Size\n",
            "     33/100      8.11G      1.299      2.242      1.312      1.434         40        640: 100% 57/57 [00:41<00:00,  1.37it/s]\n",
            "                 Class     Images  Instances      Box(P          R      mAP50  mAP50-95)     Mask(P          R      mAP50  mAP50-95): 100% 8/8 [00:05<00:00,  1.39it/s]\n",
            "                   all        254        592      0.479      0.385      0.378      0.198      0.492      0.395      0.388      0.186\n",
            "\n",
            "      Epoch    GPU_mem   box_loss   seg_loss   cls_loss   dfl_loss  Instances       Size\n",
            "     34/100      8.13G      1.274      2.136      1.278      1.418         43        640: 100% 57/57 [00:41<00:00,  1.38it/s]\n",
            "                 Class     Images  Instances      Box(P          R      mAP50  mAP50-95)     Mask(P          R      mAP50  mAP50-95): 100% 8/8 [00:05<00:00,  1.34it/s]\n",
            "                   all        254        592      0.505      0.431      0.415      0.216      0.508      0.426      0.412      0.199\n",
            "\n",
            "      Epoch    GPU_mem   box_loss   seg_loss   cls_loss   dfl_loss  Instances       Size\n",
            "     35/100      8.48G      1.279      2.172       1.26      1.416         57        640: 100% 57/57 [00:40<00:00,  1.41it/s]\n",
            "                 Class     Images  Instances      Box(P          R      mAP50  mAP50-95)     Mask(P          R      mAP50  mAP50-95): 100% 8/8 [00:07<00:00,  1.11it/s]\n",
            "                   all        254        592      0.572      0.375      0.396      0.207      0.585      0.383      0.398       0.19\n",
            "\n",
            "      Epoch    GPU_mem   box_loss   seg_loss   cls_loss   dfl_loss  Instances       Size\n",
            "     36/100      8.08G      1.251      2.123      1.224      1.388         40        640: 100% 57/57 [00:40<00:00,  1.39it/s]\n",
            "                 Class     Images  Instances      Box(P          R      mAP50  mAP50-95)     Mask(P          R      mAP50  mAP50-95): 100% 8/8 [00:06<00:00,  1.30it/s]\n",
            "                   all        254        592      0.499      0.439      0.432      0.227      0.576      0.409      0.442      0.214\n",
            "\n",
            "      Epoch    GPU_mem   box_loss   seg_loss   cls_loss   dfl_loss  Instances       Size\n",
            "     37/100      8.13G      1.239       2.11      1.204      1.386         37        640: 100% 57/57 [00:40<00:00,  1.39it/s]\n",
            "                 Class     Images  Instances      Box(P          R      mAP50  mAP50-95)     Mask(P          R      mAP50  mAP50-95): 100% 8/8 [00:06<00:00,  1.30it/s]\n",
            "                   all        254        592      0.565      0.378      0.405      0.214      0.625      0.367       0.41        0.2\n",
            "\n",
            "      Epoch    GPU_mem   box_loss   seg_loss   cls_loss   dfl_loss  Instances       Size\n",
            "     38/100      8.14G      1.256      2.112      1.233      1.386         62        640: 100% 57/57 [00:41<00:00,  1.38it/s]\n",
            "                 Class     Images  Instances      Box(P          R      mAP50  mAP50-95)     Mask(P          R      mAP50  mAP50-95): 100% 8/8 [00:06<00:00,  1.16it/s]\n",
            "                   all        254        592      0.498      0.444      0.432      0.228       0.54      0.424      0.438      0.216\n",
            "\n",
            "      Epoch    GPU_mem   box_loss   seg_loss   cls_loss   dfl_loss  Instances       Size\n",
            "     39/100      8.44G       1.27       2.18      1.235      1.407         52        640: 100% 57/57 [00:41<00:00,  1.39it/s]\n",
            "                 Class     Images  Instances      Box(P          R      mAP50  mAP50-95)     Mask(P          R      mAP50  mAP50-95): 100% 8/8 [00:05<00:00,  1.42it/s]\n",
            "                   all        254        592      0.559      0.407      0.425      0.226      0.576      0.399      0.411      0.206\n",
            "\n",
            "      Epoch    GPU_mem   box_loss   seg_loss   cls_loss   dfl_loss  Instances       Size\n",
            "     40/100      8.08G      1.245      2.113      1.199      1.388         39        640: 100% 57/57 [00:40<00:00,  1.39it/s]\n",
            "                 Class     Images  Instances      Box(P          R      mAP50  mAP50-95)     Mask(P          R      mAP50  mAP50-95): 100% 8/8 [00:06<00:00,  1.14it/s]\n",
            "                   all        254        592      0.555      0.398      0.422      0.224      0.571      0.409      0.424      0.206\n",
            "\n",
            "      Epoch    GPU_mem   box_loss   seg_loss   cls_loss   dfl_loss  Instances       Size\n",
            "     41/100      8.06G      1.196      2.021      1.165      1.371         48        640: 100% 57/57 [00:40<00:00,  1.41it/s]\n",
            "                 Class     Images  Instances      Box(P          R      mAP50  mAP50-95)     Mask(P          R      mAP50  mAP50-95): 100% 8/8 [00:06<00:00,  1.20it/s]\n",
            "                   all        254        592      0.541      0.424      0.431      0.223       0.63      0.389      0.435      0.211\n",
            "\n",
            "      Epoch    GPU_mem   box_loss   seg_loss   cls_loss   dfl_loss  Instances       Size\n",
            "     42/100      8.06G      1.242      2.096      1.189       1.37         30        640: 100% 57/57 [00:40<00:00,  1.40it/s]\n",
            "                 Class     Images  Instances      Box(P          R      mAP50  mAP50-95)     Mask(P          R      mAP50  mAP50-95): 100% 8/8 [00:05<00:00,  1.42it/s]\n",
            "                   all        254        592      0.591      0.424      0.454      0.227      0.606      0.425      0.452      0.211\n",
            "\n",
            "      Epoch    GPU_mem   box_loss   seg_loss   cls_loss   dfl_loss  Instances       Size\n",
            "     43/100      8.42G      1.237      2.062      1.187      1.383         34        640: 100% 57/57 [00:42<00:00,  1.36it/s]\n",
            "                 Class     Images  Instances      Box(P          R      mAP50  mAP50-95)     Mask(P          R      mAP50  mAP50-95): 100% 8/8 [00:06<00:00,  1.27it/s]\n",
            "                   all        254        592      0.517      0.408      0.408      0.211      0.582      0.416      0.416      0.199\n",
            "\n",
            "      Epoch    GPU_mem   box_loss   seg_loss   cls_loss   dfl_loss  Instances       Size\n",
            "     44/100      8.17G      1.207      2.093      1.199      1.377         38        640: 100% 57/57 [00:39<00:00,  1.43it/s]\n",
            "                 Class     Images  Instances      Box(P          R      mAP50  mAP50-95)     Mask(P          R      mAP50  mAP50-95): 100% 8/8 [00:06<00:00,  1.15it/s]\n",
            "                   all        254        592      0.564      0.404      0.431       0.23      0.583      0.392      0.408      0.215\n",
            "\n",
            "      Epoch    GPU_mem   box_loss   seg_loss   cls_loss   dfl_loss  Instances       Size\n",
            "     45/100      8.02G      1.221      2.062      1.173      1.373         41        640: 100% 57/57 [00:40<00:00,  1.40it/s]\n",
            "                 Class     Images  Instances      Box(P          R      mAP50  mAP50-95)     Mask(P          R      mAP50  mAP50-95): 100% 8/8 [00:05<00:00,  1.42it/s]\n",
            "                   all        254        592       0.47      0.449      0.443      0.232      0.603      0.367      0.431      0.212\n",
            "\n",
            "      Epoch    GPU_mem   box_loss   seg_loss   cls_loss   dfl_loss  Instances       Size\n",
            "     46/100      8.16G      1.193       2.06      1.162       1.35         45        640: 100% 57/57 [00:41<00:00,  1.38it/s]\n",
            "                 Class     Images  Instances      Box(P          R      mAP50  mAP50-95)     Mask(P          R      mAP50  mAP50-95): 100% 8/8 [00:06<00:00,  1.22it/s]\n",
            "                   all        254        592      0.563      0.429      0.452      0.243      0.566      0.431      0.443      0.225\n",
            "\n",
            "      Epoch    GPU_mem   box_loss   seg_loss   cls_loss   dfl_loss  Instances       Size\n",
            "     47/100      8.37G      1.189      2.038      1.126      1.348         38        640: 100% 57/57 [00:41<00:00,  1.38it/s]\n",
            "                 Class     Images  Instances      Box(P          R      mAP50  mAP50-95)     Mask(P          R      mAP50  mAP50-95): 100% 8/8 [00:05<00:00,  1.34it/s]\n",
            "                   all        254        592      0.546      0.451      0.435      0.219      0.575      0.445      0.429      0.206\n",
            "\n",
            "      Epoch    GPU_mem   box_loss   seg_loss   cls_loss   dfl_loss  Instances       Size\n",
            "     48/100      8.15G      1.199      2.037      1.112      1.351         39        640: 100% 57/57 [00:40<00:00,  1.39it/s]\n",
            "                 Class     Images  Instances      Box(P          R      mAP50  mAP50-95)     Mask(P          R      mAP50  mAP50-95): 100% 8/8 [00:05<00:00,  1.39it/s]\n",
            "                   all        254        592      0.552      0.445      0.451      0.236      0.537      0.439      0.436      0.216\n",
            "\n",
            "      Epoch    GPU_mem   box_loss   seg_loss   cls_loss   dfl_loss  Instances       Size\n",
            "     49/100      8.15G        1.2      2.055      1.131      1.347         44        640: 100% 57/57 [00:41<00:00,  1.37it/s]\n",
            "                 Class     Images  Instances      Box(P          R      mAP50  mAP50-95)     Mask(P          R      mAP50  mAP50-95): 100% 8/8 [00:05<00:00,  1.38it/s]\n",
            "                   all        254        592      0.551      0.442      0.444      0.235      0.565      0.429      0.424      0.215\n",
            "\n",
            "      Epoch    GPU_mem   box_loss   seg_loss   cls_loss   dfl_loss  Instances       Size\n",
            "     50/100      8.02G       1.18      1.992      1.151      1.351         44        640: 100% 57/57 [00:40<00:00,  1.41it/s]\n",
            "                 Class     Images  Instances      Box(P          R      mAP50  mAP50-95)     Mask(P          R      mAP50  mAP50-95): 100% 8/8 [00:06<00:00,  1.15it/s]\n",
            "                   all        254        592      0.618        0.4      0.446      0.237      0.626      0.405      0.437      0.223\n",
            "\n",
            "      Epoch    GPU_mem   box_loss   seg_loss   cls_loss   dfl_loss  Instances       Size\n",
            "     51/100      8.35G       1.17      1.971      1.103      1.344         58        640: 100% 57/57 [00:41<00:00,  1.39it/s]\n",
            "                 Class     Images  Instances      Box(P          R      mAP50  mAP50-95)     Mask(P          R      mAP50  mAP50-95): 100% 8/8 [00:05<00:00,  1.41it/s]\n",
            "                   all        254        592      0.541      0.459      0.443      0.225      0.521      0.434      0.413        0.2\n",
            "\n",
            "      Epoch    GPU_mem   box_loss   seg_loss   cls_loss   dfl_loss  Instances       Size\n",
            "     52/100      8.11G      1.181      1.976      1.104      1.338         31        640: 100% 57/57 [00:40<00:00,  1.39it/s]\n",
            "                 Class     Images  Instances      Box(P          R      mAP50  mAP50-95)     Mask(P          R      mAP50  mAP50-95): 100% 8/8 [00:05<00:00,  1.44it/s]\n",
            "                   all        254        592       0.52      0.454      0.454       0.24      0.539      0.431      0.433      0.214\n",
            "\n",
            "      Epoch    GPU_mem   box_loss   seg_loss   cls_loss   dfl_loss  Instances       Size\n",
            "     53/100      8.14G      1.178      1.974      1.085      1.351         44        640: 100% 57/57 [00:40<00:00,  1.41it/s]\n",
            "                 Class     Images  Instances      Box(P          R      mAP50  mAP50-95)     Mask(P          R      mAP50  mAP50-95): 100% 8/8 [00:07<00:00,  1.11it/s]\n",
            "                   all        254        592      0.464       0.49      0.457      0.244      0.464      0.475      0.442      0.223\n",
            "\n",
            "      Epoch    GPU_mem   box_loss   seg_loss   cls_loss   dfl_loss  Instances       Size\n",
            "     54/100      8.18G      1.206      2.022      1.126      1.359         32        640: 100% 57/57 [00:41<00:00,  1.37it/s]\n",
            "                 Class     Images  Instances      Box(P          R      mAP50  mAP50-95)     Mask(P          R      mAP50  mAP50-95): 100% 8/8 [00:06<00:00,  1.33it/s]\n",
            "                   all        254        592      0.541      0.462      0.457      0.243       0.57      0.419      0.439      0.225\n",
            "\n",
            "      Epoch    GPU_mem   box_loss   seg_loss   cls_loss   dfl_loss  Instances       Size\n",
            "     55/100      8.44G      1.151      1.987      1.083      1.332         23        640: 100% 57/57 [00:40<00:00,  1.41it/s]\n",
            "                 Class     Images  Instances      Box(P          R      mAP50  mAP50-95)     Mask(P          R      mAP50  mAP50-95): 100% 8/8 [00:05<00:00,  1.44it/s]\n",
            "                   all        254        592      0.577      0.461      0.461      0.246       0.57      0.454      0.448      0.221\n",
            "\n",
            "      Epoch    GPU_mem   box_loss   seg_loss   cls_loss   dfl_loss  Instances       Size\n",
            "     56/100      8.08G      1.107      1.928      1.052      1.298         33        640: 100% 57/57 [00:41<00:00,  1.39it/s]\n",
            "                 Class     Images  Instances      Box(P          R      mAP50  mAP50-95)     Mask(P          R      mAP50  mAP50-95): 100% 8/8 [00:06<00:00,  1.26it/s]\n",
            "                   all        254        592      0.574      0.439       0.45      0.237      0.574      0.439      0.443      0.221\n",
            "\n",
            "      Epoch    GPU_mem   box_loss   seg_loss   cls_loss   dfl_loss  Instances       Size\n",
            "     57/100       8.2G      1.151      2.008      1.079      1.329         34        640: 100% 57/57 [00:40<00:00,  1.40it/s]\n",
            "                 Class     Images  Instances      Box(P          R      mAP50  mAP50-95)     Mask(P          R      mAP50  mAP50-95): 100% 8/8 [00:07<00:00,  1.14it/s]\n",
            "                   all        254        592      0.573      0.426      0.458      0.247      0.611      0.416      0.438      0.222\n",
            "\n",
            "      Epoch    GPU_mem   box_loss   seg_loss   cls_loss   dfl_loss  Instances       Size\n",
            "     58/100      8.25G      1.126      1.934      1.049      1.302         40        640: 100% 57/57 [00:42<00:00,  1.35it/s]\n",
            "                 Class     Images  Instances      Box(P          R      mAP50  mAP50-95)     Mask(P          R      mAP50  mAP50-95): 100% 8/8 [00:05<00:00,  1.40it/s]\n",
            "                   all        254        592      0.544      0.466      0.443      0.234      0.562      0.431      0.441      0.214\n",
            "\n",
            "      Epoch    GPU_mem   box_loss   seg_loss   cls_loss   dfl_loss  Instances       Size\n",
            "     59/100      8.51G      1.097      1.848      1.023      1.289         50        640: 100% 57/57 [00:41<00:00,  1.37it/s]\n",
            "                 Class     Images  Instances      Box(P          R      mAP50  mAP50-95)     Mask(P          R      mAP50  mAP50-95): 100% 8/8 [00:07<00:00,  1.12it/s]\n",
            "                   all        254        592      0.568      0.507       0.47      0.246      0.559       0.49      0.435      0.221\n",
            "\n",
            "      Epoch    GPU_mem   box_loss   seg_loss   cls_loss   dfl_loss  Instances       Size\n",
            "     60/100      8.18G      1.083      1.917          1      1.286         32        640: 100% 57/57 [00:40<00:00,  1.40it/s]\n",
            "                 Class     Images  Instances      Box(P          R      mAP50  mAP50-95)     Mask(P          R      mAP50  mAP50-95): 100% 8/8 [00:06<00:00,  1.31it/s]\n",
            "                   all        254        592      0.672      0.426      0.481      0.259      0.665      0.426      0.462      0.231\n",
            "\n",
            "      Epoch    GPU_mem   box_loss   seg_loss   cls_loss   dfl_loss  Instances       Size\n",
            "     61/100      8.12G      1.097      1.967      1.026      1.284         48        640: 100% 57/57 [00:41<00:00,  1.37it/s]\n",
            "                 Class     Images  Instances      Box(P          R      mAP50  mAP50-95)     Mask(P          R      mAP50  mAP50-95): 100% 8/8 [00:06<00:00,  1.32it/s]\n",
            "                   all        254        592      0.597      0.436      0.457      0.246       0.61      0.446      0.443       0.22\n",
            "\n",
            "      Epoch    GPU_mem   box_loss   seg_loss   cls_loss   dfl_loss  Instances       Size\n",
            "     62/100      8.22G      1.107      1.951      1.003      1.294         37        640: 100% 57/57 [00:40<00:00,  1.42it/s]\n",
            "                 Class     Images  Instances      Box(P          R      mAP50  mAP50-95)     Mask(P          R      mAP50  mAP50-95): 100% 8/8 [00:07<00:00,  1.13it/s]\n",
            "                   all        254        592       0.55      0.483      0.464      0.251      0.559      0.461      0.454      0.225\n",
            "\n",
            "      Epoch    GPU_mem   box_loss   seg_loss   cls_loss   dfl_loss  Instances       Size\n",
            "     63/100      8.35G      1.118       1.92      1.006      1.303         38        640: 100% 57/57 [00:41<00:00,  1.38it/s]\n",
            "                 Class     Images  Instances      Box(P          R      mAP50  mAP50-95)     Mask(P          R      mAP50  mAP50-95): 100% 8/8 [00:05<00:00,  1.38it/s]\n",
            "                   all        254        592      0.584      0.439      0.453       0.24      0.626      0.438      0.453      0.223\n",
            "\n",
            "      Epoch    GPU_mem   box_loss   seg_loss   cls_loss   dfl_loss  Instances       Size\n",
            "     64/100      8.11G        1.1      1.874     0.9972      1.293         41        640: 100% 57/57 [00:41<00:00,  1.36it/s]\n",
            "                 Class     Images  Instances      Box(P          R      mAP50  mAP50-95)     Mask(P          R      mAP50  mAP50-95): 100% 8/8 [00:05<00:00,  1.41it/s]\n",
            "                   all        254        592      0.666      0.421      0.463      0.249      0.688      0.426      0.456      0.225\n",
            "\n",
            "      Epoch    GPU_mem   box_loss   seg_loss   cls_loss   dfl_loss  Instances       Size\n",
            "     65/100      8.04G      1.109      1.858     0.9775      1.279         52        640: 100% 57/57 [00:40<00:00,  1.41it/s]\n",
            "                 Class     Images  Instances      Box(P          R      mAP50  mAP50-95)     Mask(P          R      mAP50  mAP50-95): 100% 8/8 [00:07<00:00,  1.13it/s]\n",
            "                   all        254        592      0.595      0.448      0.464       0.25      0.625      0.419      0.437      0.219\n",
            "\n",
            "      Epoch    GPU_mem   box_loss   seg_loss   cls_loss   dfl_loss  Instances       Size\n",
            "     66/100      8.15G      1.067      1.848     0.9795      1.288         34        640: 100% 57/57 [00:40<00:00,  1.39it/s]\n",
            "                 Class     Images  Instances      Box(P          R      mAP50  mAP50-95)     Mask(P          R      mAP50  mAP50-95): 100% 8/8 [00:06<00:00,  1.31it/s]\n",
            "                   all        254        592      0.605      0.436      0.427      0.226      0.595      0.429      0.408      0.202\n",
            "\n",
            "      Epoch    GPU_mem   box_loss   seg_loss   cls_loss   dfl_loss  Instances       Size\n",
            "     67/100      8.49G      1.086      1.833     0.9529      1.264         43        640: 100% 57/57 [00:41<00:00,  1.38it/s]\n",
            "                 Class     Images  Instances      Box(P          R      mAP50  mAP50-95)     Mask(P          R      mAP50  mAP50-95): 100% 8/8 [00:05<00:00,  1.42it/s]\n",
            "                   all        254        592      0.587      0.456      0.462      0.257      0.633      0.437      0.455      0.236\n",
            "\n",
            "      Epoch    GPU_mem   box_loss   seg_loss   cls_loss   dfl_loss  Instances       Size\n",
            "     68/100      8.12G      1.074      1.874     0.9541      1.277         31        640: 100% 57/57 [00:41<00:00,  1.39it/s]\n",
            "                 Class     Images  Instances      Box(P          R      mAP50  mAP50-95)     Mask(P          R      mAP50  mAP50-95): 100% 8/8 [00:06<00:00,  1.21it/s]\n",
            "                   all        254        592      0.578      0.472      0.475      0.257      0.566      0.465      0.461      0.236\n",
            "\n",
            "      Epoch    GPU_mem   box_loss   seg_loss   cls_loss   dfl_loss  Instances       Size\n",
            "     69/100      8.07G      1.057      1.859     0.9353      1.267         33        640: 100% 57/57 [00:42<00:00,  1.35it/s]\n",
            "                 Class     Images  Instances      Box(P          R      mAP50  mAP50-95)     Mask(P          R      mAP50  mAP50-95): 100% 8/8 [00:05<00:00,  1.36it/s]\n",
            "                   all        254        592      0.626      0.412      0.452      0.251      0.658      0.397      0.438      0.226\n",
            "\n",
            "      Epoch    GPU_mem   box_loss   seg_loss   cls_loss   dfl_loss  Instances       Size\n",
            "     70/100       8.1G      1.038      1.819     0.9216      1.252         39        640: 100% 57/57 [00:40<00:00,  1.41it/s]\n",
            "                 Class     Images  Instances      Box(P          R      mAP50  mAP50-95)     Mask(P          R      mAP50  mAP50-95): 100% 8/8 [00:05<00:00,  1.45it/s]\n",
            "                   all        254        592      0.539      0.479      0.461      0.249      0.647      0.422      0.455      0.234\n",
            "\n",
            "      Epoch    GPU_mem   box_loss   seg_loss   cls_loss   dfl_loss  Instances       Size\n",
            "     71/100      8.52G       1.06      1.812     0.9494      1.279         54        640: 100% 57/57 [00:40<00:00,  1.39it/s]\n",
            "                 Class     Images  Instances      Box(P          R      mAP50  mAP50-95)     Mask(P          R      mAP50  mAP50-95): 100% 8/8 [00:07<00:00,  1.14it/s]\n",
            "                   all        254        592      0.628      0.453      0.474      0.253      0.614      0.439      0.454      0.225\n",
            "\n",
            "      Epoch    GPU_mem   box_loss   seg_loss   cls_loss   dfl_loss  Instances       Size\n",
            "     72/100      8.13G      1.041      1.804     0.9315      1.259         40        640: 100% 57/57 [00:40<00:00,  1.41it/s]\n",
            "                 Class     Images  Instances      Box(P          R      mAP50  mAP50-95)     Mask(P          R      mAP50  mAP50-95): 100% 8/8 [00:06<00:00,  1.24it/s]\n",
            "                   all        254        592      0.581      0.483      0.464      0.248      0.581       0.48      0.452      0.219\n",
            "\n",
            "      Epoch    GPU_mem   box_loss   seg_loss   cls_loss   dfl_loss  Instances       Size\n",
            "     73/100      8.16G      1.025      1.766     0.9026      1.237         39        640: 100% 57/57 [00:40<00:00,  1.41it/s]\n",
            "                 Class     Images  Instances      Box(P          R      mAP50  mAP50-95)     Mask(P          R      mAP50  mAP50-95): 100% 8/8 [00:05<00:00,  1.44it/s]\n",
            "                   all        254        592       0.58      0.478      0.461       0.25      0.583       0.46      0.446      0.226\n",
            "\n",
            "      Epoch    GPU_mem   box_loss   seg_loss   cls_loss   dfl_loss  Instances       Size\n",
            "     74/100      8.09G      1.013      1.807     0.8984      1.238         29        640: 100% 57/57 [00:41<00:00,  1.37it/s]\n",
            "                 Class     Images  Instances      Box(P          R      mAP50  mAP50-95)     Mask(P          R      mAP50  mAP50-95): 100% 8/8 [00:05<00:00,  1.37it/s]\n",
            "                   all        254        592      0.567      0.473      0.464      0.252      0.559      0.465      0.446      0.222\n",
            "\n",
            "      Epoch    GPU_mem   box_loss   seg_loss   cls_loss   dfl_loss  Instances       Size\n",
            "     75/100      8.45G       1.01      1.751     0.8748      1.238         33        640: 100% 57/57 [00:40<00:00,  1.42it/s]\n",
            "                 Class     Images  Instances      Box(P          R      mAP50  mAP50-95)     Mask(P          R      mAP50  mAP50-95): 100% 8/8 [00:06<00:00,  1.15it/s]\n",
            "                   all        254        592      0.585      0.465      0.474       0.25      0.589      0.446      0.457      0.225\n",
            "\n",
            "      Epoch    GPU_mem   box_loss   seg_loss   cls_loss   dfl_loss  Instances       Size\n",
            "     76/100      8.12G      1.013      1.789     0.8634      1.247         35        640: 100% 57/57 [00:40<00:00,  1.39it/s]\n",
            "                 Class     Images  Instances      Box(P          R      mAP50  mAP50-95)     Mask(P          R      mAP50  mAP50-95): 100% 8/8 [00:05<00:00,  1.42it/s]\n",
            "                   all        254        592      0.593       0.49      0.468      0.251      0.585      0.478      0.448      0.222\n",
            "\n",
            "      Epoch    GPU_mem   box_loss   seg_loss   cls_loss   dfl_loss  Instances       Size\n",
            "     77/100      8.14G     0.9805      1.718     0.8499       1.21         42        640: 100% 57/57 [00:40<00:00,  1.40it/s]\n",
            "                 Class     Images  Instances      Box(P          R      mAP50  mAP50-95)     Mask(P          R      mAP50  mAP50-95): 100% 8/8 [00:05<00:00,  1.40it/s]\n",
            "                   all        254        592       0.59      0.453      0.462      0.253      0.586      0.446      0.446      0.227\n",
            "\n",
            "      Epoch    GPU_mem   box_loss   seg_loss   cls_loss   dfl_loss  Instances       Size\n",
            "     78/100      8.16G      1.006      1.792     0.8554      1.219         39        640: 100% 57/57 [00:40<00:00,  1.41it/s]\n",
            "                 Class     Images  Instances      Box(P          R      mAP50  mAP50-95)     Mask(P          R      mAP50  mAP50-95): 100% 8/8 [00:06<00:00,  1.16it/s]\n",
            "                   all        254        592      0.555      0.508      0.486      0.264      0.562      0.476      0.463      0.234\n",
            "\n",
            "      Epoch    GPU_mem   box_loss   seg_loss   cls_loss   dfl_loss  Instances       Size\n",
            "     79/100      8.43G      1.002      1.712     0.8606      1.231         52        640: 100% 57/57 [00:42<00:00,  1.34it/s]\n",
            "                 Class     Images  Instances      Box(P          R      mAP50  mAP50-95)     Mask(P          R      mAP50  mAP50-95): 100% 8/8 [00:06<00:00,  1.32it/s]\n",
            "                   all        254        592      0.579      0.484       0.47      0.258      0.577      0.478      0.468      0.233\n",
            "\n",
            "      Epoch    GPU_mem   box_loss   seg_loss   cls_loss   dfl_loss  Instances       Size\n",
            "     80/100      8.04G     0.9804      1.735     0.8217      1.213         30        640: 100% 57/57 [00:40<00:00,  1.42it/s]\n",
            "                 Class     Images  Instances      Box(P          R      mAP50  mAP50-95)     Mask(P          R      mAP50  mAP50-95): 100% 8/8 [00:06<00:00,  1.16it/s]\n",
            "                   all        254        592      0.548      0.492      0.465      0.256      0.555      0.483       0.46       0.23\n",
            "\n",
            "      Epoch    GPU_mem   box_loss   seg_loss   cls_loss   dfl_loss  Instances       Size\n",
            "     81/100       8.2G      1.011      1.759     0.8675      1.229         43        640: 100% 57/57 [00:40<00:00,  1.40it/s]\n",
            "                 Class     Images  Instances      Box(P          R      mAP50  mAP50-95)     Mask(P          R      mAP50  mAP50-95): 100% 8/8 [00:05<00:00,  1.38it/s]\n",
            "                   all        254        592      0.594      0.493      0.486      0.266       0.58      0.481      0.466      0.233\n",
            "\n",
            "      Epoch    GPU_mem   box_loss   seg_loss   cls_loss   dfl_loss  Instances       Size\n",
            "     82/100      8.07G      0.982       1.68     0.8354      1.222         46        640: 100% 57/57 [00:40<00:00,  1.40it/s]\n",
            "                 Class     Images  Instances      Box(P          R      mAP50  mAP50-95)     Mask(P          R      mAP50  mAP50-95): 100% 8/8 [00:05<00:00,  1.45it/s]\n",
            "                   all        254        592      0.607      0.475      0.488      0.273      0.612      0.459      0.467      0.244\n",
            "\n",
            "      Epoch    GPU_mem   box_loss   seg_loss   cls_loss   dfl_loss  Instances       Size\n",
            "     83/100      8.41G     0.9608      1.685     0.8123      1.209         30        640: 100% 57/57 [00:40<00:00,  1.39it/s]\n",
            "                 Class     Images  Instances      Box(P          R      mAP50  mAP50-95)     Mask(P          R      mAP50  mAP50-95): 100% 8/8 [00:05<00:00,  1.37it/s]\n",
            "                   all        254        592       0.62      0.476      0.492      0.275      0.644      0.461       0.48      0.247\n",
            "\n",
            "      Epoch    GPU_mem   box_loss   seg_loss   cls_loss   dfl_loss  Instances       Size\n",
            "     84/100       8.1G     0.9718      1.706     0.8144      1.209         42        640: 100% 57/57 [00:40<00:00,  1.39it/s]\n",
            "                 Class     Images  Instances      Box(P          R      mAP50  mAP50-95)     Mask(P          R      mAP50  mAP50-95): 100% 8/8 [00:06<00:00,  1.26it/s]\n",
            "                   all        254        592      0.575       0.48      0.462      0.258      0.603      0.471      0.448      0.231\n",
            "\n",
            "      Epoch    GPU_mem   box_loss   seg_loss   cls_loss   dfl_loss  Instances       Size\n",
            "     85/100      8.27G     0.9444      1.691     0.7822      1.186         28        640: 100% 57/57 [00:39<00:00,  1.44it/s]\n",
            "                 Class     Images  Instances      Box(P          R      mAP50  mAP50-95)     Mask(P          R      mAP50  mAP50-95): 100% 8/8 [00:06<00:00,  1.17it/s]\n",
            "                   all        254        592      0.625      0.459      0.473      0.262      0.611      0.458      0.463      0.238\n",
            "\n",
            "      Epoch    GPU_mem   box_loss   seg_loss   cls_loss   dfl_loss  Instances       Size\n",
            "     86/100      8.28G     0.9294      1.658     0.7611      1.177         42        640: 100% 57/57 [00:40<00:00,  1.42it/s]\n",
            "                 Class     Images  Instances      Box(P          R      mAP50  mAP50-95)     Mask(P          R      mAP50  mAP50-95): 100% 8/8 [00:05<00:00,  1.47it/s]\n",
            "                   all        254        592      0.584      0.492      0.485      0.264      0.583      0.485       0.47      0.235\n",
            "\n",
            "      Epoch    GPU_mem   box_loss   seg_loss   cls_loss   dfl_loss  Instances       Size\n",
            "     87/100      8.47G     0.9263      1.642     0.7632      1.184         41        640: 100% 57/57 [00:39<00:00,  1.43it/s]\n",
            "                 Class     Images  Instances      Box(P          R      mAP50  mAP50-95)     Mask(P          R      mAP50  mAP50-95): 100% 8/8 [00:06<00:00,  1.23it/s]\n",
            "                   all        254        592      0.585       0.49      0.485      0.267       0.58      0.478      0.472      0.238\n",
            "\n",
            "      Epoch    GPU_mem   box_loss   seg_loss   cls_loss   dfl_loss  Instances       Size\n",
            "     88/100      8.08G     0.9493      1.671     0.7698      1.194         43        640: 100% 57/57 [00:40<00:00,  1.42it/s]\n",
            "                 Class     Images  Instances      Box(P          R      mAP50  mAP50-95)     Mask(P          R      mAP50  mAP50-95): 100% 8/8 [00:06<00:00,  1.26it/s]\n",
            "                   all        254        592      0.561      0.503      0.488      0.271      0.618      0.446      0.465      0.237\n",
            "\n",
            "      Epoch    GPU_mem   box_loss   seg_loss   cls_loss   dfl_loss  Instances       Size\n",
            "     89/100      8.11G     0.9277      1.692     0.7612      1.187         41        640: 100% 57/57 [00:40<00:00,  1.42it/s]\n",
            "                 Class     Images  Instances      Box(P          R      mAP50  mAP50-95)     Mask(P          R      mAP50  mAP50-95): 100% 8/8 [00:06<00:00,  1.22it/s]\n",
            "                   all        254        592      0.559      0.502      0.488      0.264      0.571      0.464      0.466      0.237\n",
            "\n",
            "      Epoch    GPU_mem   box_loss   seg_loss   cls_loss   dfl_loss  Instances       Size\n",
            "     90/100      8.05G     0.9354      1.652     0.7744      1.207         33        640: 100% 57/57 [00:39<00:00,  1.43it/s]\n",
            "                 Class     Images  Instances      Box(P          R      mAP50  mAP50-95)     Mask(P          R      mAP50  mAP50-95): 100% 8/8 [00:05<00:00,  1.44it/s]\n",
            "                   all        254        592      0.611      0.475      0.475      0.263      0.605      0.456      0.456      0.233\n",
            "Closing dataloader mosaic\n",
            "\u001b[34m\u001b[1malbumentations: \u001b[0mBlur(p=0.01, blur_limit=(3, 7)), MedianBlur(p=0.01, blur_limit=(3, 7)), ToGray(p=0.01), CLAHE(p=0.01, clip_limit=(1, 4.0), tile_grid_size=(8, 8))\n",
            "\n",
            "      Epoch    GPU_mem   box_loss   seg_loss   cls_loss   dfl_loss  Instances       Size\n",
            "     91/100      8.39G      0.897       1.48     0.7121      1.174         18        640: 100% 57/57 [00:41<00:00,  1.37it/s]\n",
            "                 Class     Images  Instances      Box(P          R      mAP50  mAP50-95)     Mask(P          R      mAP50  mAP50-95): 100% 8/8 [00:06<00:00,  1.23it/s]\n",
            "                   all        254        592      0.586      0.454      0.455      0.255      0.615      0.432      0.441      0.229\n",
            "\n",
            "      Epoch    GPU_mem   box_loss   seg_loss   cls_loss   dfl_loss  Instances       Size\n",
            "     92/100      8.04G     0.8906      1.419     0.6782      1.173         16        640: 100% 57/57 [00:39<00:00,  1.44it/s]\n",
            "                 Class     Images  Instances      Box(P          R      mAP50  mAP50-95)     Mask(P          R      mAP50  mAP50-95): 100% 8/8 [00:05<00:00,  1.46it/s]\n",
            "                   all        254        592      0.596      0.498      0.491      0.265      0.598      0.482      0.475      0.231\n",
            "\n",
            "      Epoch    GPU_mem   box_loss   seg_loss   cls_loss   dfl_loss  Instances       Size\n",
            "     93/100      8.06G     0.8875      1.419     0.6602      1.177         25        640: 100% 57/57 [00:40<00:00,  1.42it/s]\n",
            "                 Class     Images  Instances      Box(P          R      mAP50  mAP50-95)     Mask(P          R      mAP50  mAP50-95): 100% 8/8 [00:06<00:00,  1.21it/s]\n",
            "                   all        254        592      0.578      0.503      0.483      0.268      0.552      0.486      0.458      0.234\n",
            "\n",
            "      Epoch    GPU_mem   box_loss   seg_loss   cls_loss   dfl_loss  Instances       Size\n",
            "     94/100      8.06G     0.8708      1.417      0.652      1.166         26        640: 100% 57/57 [00:39<00:00,  1.44it/s]\n",
            "                 Class     Images  Instances      Box(P          R      mAP50  mAP50-95)     Mask(P          R      mAP50  mAP50-95): 100% 8/8 [00:05<00:00,  1.44it/s]\n",
            "                   all        254        592      0.558      0.507      0.483      0.268      0.626      0.459      0.477      0.238\n",
            "\n",
            "      Epoch    GPU_mem   box_loss   seg_loss   cls_loss   dfl_loss  Instances       Size\n",
            "     95/100      8.44G     0.8584      1.413     0.6466      1.152         20        640: 100% 57/57 [00:39<00:00,  1.45it/s]\n",
            "                 Class     Images  Instances      Box(P          R      mAP50  mAP50-95)     Mask(P          R      mAP50  mAP50-95): 100% 8/8 [00:05<00:00,  1.39it/s]\n",
            "                   all        254        592      0.561      0.511      0.485      0.265      0.555      0.483      0.468      0.234\n",
            "\n",
            "      Epoch    GPU_mem   box_loss   seg_loss   cls_loss   dfl_loss  Instances       Size\n",
            "     96/100      8.03G     0.8519      1.403      0.641      1.147         19        640: 100% 57/57 [00:38<00:00,  1.46it/s]\n",
            "                 Class     Images  Instances      Box(P          R      mAP50  mAP50-95)     Mask(P          R      mAP50  mAP50-95): 100% 8/8 [00:06<00:00,  1.22it/s]\n",
            "                   all        254        592      0.549      0.512      0.481      0.264      0.558      0.476       0.46      0.233\n",
            "\n",
            "      Epoch    GPU_mem   box_loss   seg_loss   cls_loss   dfl_loss  Instances       Size\n",
            "     97/100      8.04G     0.8354      1.369     0.6243      1.125         22        640: 100% 57/57 [00:39<00:00,  1.44it/s]\n",
            "                 Class     Images  Instances      Box(P          R      mAP50  mAP50-95)     Mask(P          R      mAP50  mAP50-95): 100% 8/8 [00:05<00:00,  1.46it/s]\n",
            "                   all        254        592      0.602      0.485      0.488      0.268      0.632      0.446      0.475      0.237\n",
            "\n",
            "      Epoch    GPU_mem   box_loss   seg_loss   cls_loss   dfl_loss  Instances       Size\n",
            "     98/100      8.06G     0.8212      1.366     0.6077      1.126         23        640: 100% 57/57 [00:39<00:00,  1.43it/s]\n",
            "                 Class     Images  Instances      Box(P          R      mAP50  mAP50-95)     Mask(P          R      mAP50  mAP50-95): 100% 8/8 [00:06<00:00,  1.23it/s]\n",
            "                   all        254        592      0.604       0.48      0.489       0.27      0.584      0.465      0.465      0.232\n",
            "\n",
            "      Epoch    GPU_mem   box_loss   seg_loss   cls_loss   dfl_loss  Instances       Size\n",
            "     99/100      8.44G     0.8144      1.349        0.6      1.127         19        640: 100% 57/57 [00:39<00:00,  1.46it/s]\n",
            "                 Class     Images  Instances      Box(P          R      mAP50  mAP50-95)     Mask(P          R      mAP50  mAP50-95): 100% 8/8 [00:05<00:00,  1.47it/s]\n",
            "                   all        254        592      0.617      0.473      0.483      0.266      0.612      0.468       0.47      0.235\n",
            "\n",
            "      Epoch    GPU_mem   box_loss   seg_loss   cls_loss   dfl_loss  Instances       Size\n",
            "    100/100      8.02G      0.811      1.351     0.5884      1.118         23        640: 100% 57/57 [00:39<00:00,  1.45it/s]\n",
            "                 Class     Images  Instances      Box(P          R      mAP50  mAP50-95)     Mask(P          R      mAP50  mAP50-95): 100% 8/8 [00:12<00:00,  1.53s/it]\n",
            "                   all        254        592      0.644      0.449       0.49      0.272      0.644      0.449       0.48       0.24\n",
            "\n",
            "100 epochs completed in 1.378 hours.\n",
            "Optimizer stripped from runs/segment/train/weights/last.pt, 54.8MB\n",
            "Optimizer stripped from runs/segment/train/weights/best.pt, 54.8MB\n",
            "\n",
            "Validating runs/segment/train/weights/best.pt...\n",
            "Ultralytics YOLOv8.0.164 🚀 Python-3.10.12 torch-2.0.1+cu118 CUDA:0 (Tesla T4, 15102MiB)\n",
            "YOLOv8m-seg summary (fused): 245 layers, 27222963 parameters, 0 gradients\n",
            "                 Class     Images  Instances      Box(P          R      mAP50  mAP50-95)     Mask(P          R      mAP50  mAP50-95): 100% 8/8 [00:10<00:00,  1.36s/it]\n",
            "                   all        254        592      0.619      0.476      0.492      0.275      0.644      0.461       0.48      0.247\n",
            "Speed: 1.7ms preprocess, 13.0ms inference, 0.0ms loss, 2.4ms postprocess per image\n",
            "Results saved to \u001b[1mruns/segment/train\u001b[0m\n"
          ]
        }
      ]
    },
    {
      "cell_type": "code",
      "source": [
        "# To get the result open files from the left sidebar,naviagte to\n",
        "# gdrive->MyDrive->Yolo_Object_Detection->yolov7->runs(folder)->detect->exp-> ## output ##\n"
      ],
      "metadata": {
        "id": "YkZkZYVkCFds"
      },
      "execution_count": null,
      "outputs": []
    },
    {
      "cell_type": "code",
      "source": [
        "!yolo val model=yolov8n.pt data=/content/gdrive/MyDrive/Yolo_Segmentation/Potholes/data.yaml"
      ],
      "metadata": {
        "colab": {
          "base_uri": "https://localhost:8080/"
        },
        "id": "CpwNxNZISjga",
        "outputId": "891f17b0-b690-4aed-f65d-a8cc780e0b59"
      },
      "execution_count": 12,
      "outputs": [
        {
          "output_type": "stream",
          "name": "stdout",
          "text": [
            "Ultralytics YOLOv8.0.164 🚀 Python-3.10.12 torch-2.0.1+cu118 CUDA:0 (Tesla T4, 15102MiB)\n",
            "YOLOv8n summary (fused): 168 layers, 3151904 parameters, 0 gradients\n",
            "\u001b[34m\u001b[1mval: \u001b[0mScanning /content/gdrive/MyDrive/Yolo_Segmentation/Potholes/valid/labels.cache... 254 images, 1 backgrounds, 0 corrupt: 100% 254/254 [00:00<?, ?it/s]\n",
            "                 Class     Images  Instances      Box(P          R      mAP50  mAP50-95): 100% 16/16 [00:07<00:00,  2.26it/s]\n",
            "                   all        254        592     0.0103      0.123    0.00665    0.00389\n",
            "                person        254        592     0.0103      0.123    0.00665    0.00389\n",
            "Speed: 1.8ms preprocess, 5.4ms inference, 0.0ms loss, 3.1ms postprocess per image\n",
            "Results saved to \u001b[1mruns/detect/val\u001b[0m\n"
          ]
        }
      ]
    },
    {
      "cell_type": "code",
      "source": [
        "!yolo predict model=/content/gdrive/MyDrive/runs/segment/train/weights/best.pt source='/content/Pothole Sample.mp4'"
      ],
      "metadata": {
        "id": "DvgNvSlWSjsp"
      },
      "execution_count": null,
      "outputs": []
    },
    {
      "cell_type": "code",
      "source": [],
      "metadata": {
        "id": "PLf9T9wIVGRo"
      },
      "execution_count": null,
      "outputs": []
    }
  ]
}